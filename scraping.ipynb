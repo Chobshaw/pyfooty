{
 "cells": [
  {
   "cell_type": "code",
   "execution_count": 55,
   "metadata": {},
   "outputs": [],
   "source": [
    "import requests\n",
    "\n",
    "import pandas as pd\n",
    "import bs4\n",
    "from bs4 import BeautifulSoup\n",
    "\n",
    "from global_utils import constants"
   ]
  },
  {
   "cell_type": "code",
   "execution_count": 3,
   "metadata": {},
   "outputs": [],
   "source": [
    "base_url = 'https://fbref.com/en'"
   ]
  },
  {
   "cell_type": "code",
   "execution_count": 4,
   "metadata": {},
   "outputs": [],
   "source": [
    "premier_league_seasons_url = 'https://fbref.com/en/comps/9/history/Premier-League-Seasons'"
   ]
  },
  {
   "cell_type": "code",
   "execution_count": 13,
   "metadata": {},
   "outputs": [],
   "source": [
    "premier_league_seasons_df = pd.read_html(premier_league_seasons_url, attrs={'id': 'seasons'})[0]"
   ]
  },
  {
   "cell_type": "code",
   "execution_count": 14,
   "metadata": {},
   "outputs": [],
   "source": [
    "comps_url = base_url + '/comps'\n",
    "data = requests.get(comps_url)\n",
    "soup = BeautifulSoup(data.text)"
   ]
  },
  {
   "cell_type": "code",
   "execution_count": 38,
   "metadata": {},
   "outputs": [
    {
     "name": "stdout",
     "output_type": "stream",
     "text": [
      "['/en/country/GER/Germany-Football', '/en/country/GER/Germany-Football', '/en/country/GER/Germany-Football', '/en/country/GER/Germany-Football', '/en/country/GER/Germany-Football', '/en/country/GER/Germany-Football', '/en/country/GER/Germany-Football', '/en/country/GER/Germany-Football', '/en/country/GER/Germany-Football', '/en/country/GER/Germany-Football', '/en/country/GER/Germany-Football', '/en/country/GER/Germany-Football', '/en/country/GER/Germany-Football', '/en/country/GER/Germany-Football', '/en/country/GER/Germany-Football', '/en/country/GER/Germany-Football', '/en/country/GER/Germany-Football', '/en/country/GER/Germany-Football', '/en/country/GER/Germany-Football', '/en/country/GER/Germany-Football', '/en/country/GER/Germany-Football']\n"
     ]
    }
   ],
   "source": [
    "a_tags = soup.find_all('a')\n",
    "links = [a_tag.get('href') for a_tag in a_tags]\n",
    "print([l for l in links if l and 'germany' in l.lower()])"
   ]
  },
  {
   "cell_type": "code",
   "execution_count": 49,
   "metadata": {},
   "outputs": [
    {
     "data": {
      "text/plain": [
       "'/en/country/VEN/Venezuela-Football'"
      ]
     },
     "execution_count": 49,
     "metadata": {},
     "output_type": "execute_result"
    }
   ],
   "source": [
    "rows = soup.find_all('tr')\n",
    "rows[100].find('td', attrs={'data-stat': 'gender'}).string\n",
    "rows[100].find('td', attrs={'data-stat': 'country'}).a.get('href')"
   ]
  },
  {
   "cell_type": "code",
   "execution_count": 54,
   "metadata": {},
   "outputs": [
    {
     "data": {
      "text/plain": [
       "'/en/comps/9/history/Premier-League-Seasons'"
      ]
     },
     "execution_count": 54,
     "metadata": {},
     "output_type": "execute_result"
    }
   ],
   "source": [
    "soup.find('a', string='Premier League').get('href')"
   ]
  },
  {
   "cell_type": "code",
   "execution_count": 59,
   "metadata": {},
   "outputs": [
    {
     "data": {
      "text/plain": [
       "'/en/countries/'"
      ]
     },
     "execution_count": 59,
     "metadata": {},
     "output_type": "execute_result"
    }
   ],
   "source": [
    "data = requests.get(constants.BASE_DATA_URL)\n",
    "soup = BeautifulSoup(data.text, 'html.parser')\n",
    "soup.find('a', string='Countries').get('href')"
   ]
  },
  {
   "cell_type": "code",
   "execution_count": null,
   "metadata": {},
   "outputs": [],
   "source": []
  }
 ],
 "metadata": {
  "kernelspec": {
   "display_name": "pyfooty-env",
   "language": "python",
   "name": "python3"
  },
  "language_info": {
   "codemirror_mode": {
    "name": "ipython",
    "version": 3
   },
   "file_extension": ".py",
   "mimetype": "text/x-python",
   "name": "python",
   "nbconvert_exporter": "python",
   "pygments_lexer": "ipython3",
   "version": "3.11.4"
  },
  "orig_nbformat": 4
 },
 "nbformat": 4,
 "nbformat_minor": 2
}
